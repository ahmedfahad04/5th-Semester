{
 "cells": [
  {
   "cell_type": "code",
   "execution_count": 1,
   "metadata": {},
   "outputs": [],
   "source": [
    "import numpy as np \n",
    "import pandas as pd\n",
    "import matplotlib.pyplot as plt\n",
    "import seaborn as sns\n",
    "# sns.set_style(\"darkgrid\")"
   ]
  },
  {
   "cell_type": "code",
   "execution_count": 86,
   "metadata": {},
   "outputs": [
    {
     "name": "stdout",
     "output_type": "stream",
     "text": [
      "False\n"
     ]
    }
   ],
   "source": [
    "data = pd.read_csv('ballons.csv')\n",
    "\n",
    "def prior_probability(df):\n",
    "      \n",
    "    rows = len(df)\n",
    "    values = df['Inflated'].value_counts()\n",
    "    prior = []\n",
    "\n",
    "    for i in values:\n",
    "        prob = i/rows\n",
    "        prior.append(prob)\n",
    "        \n",
    "    return prior     \n",
    "\n",
    "def naive_bayes_classifer(df, X_test, Y_test): \n",
    "    \n",
    "    feature_prob_given_true = []\n",
    "    feature_prob_given_false = []\n",
    "    \n",
    "    features = df.columns[:-1]\n",
    "    rows = len(df[Y_test])\n",
    "    class_value = df[Y_test].value_counts()\n",
    "\n",
    "    for feature in features:\n",
    "        distinct = df[feature].unique()     # ['YELLOW', 'RED', 'GREEN']\n",
    "        \n",
    "        for f_value in distinct:            # 'YELLOW'\n",
    "            feature_value_true = 0\n",
    "            feature_value_false = 0\n",
    "            \n",
    "            for i in range(len(df)):        # for each row\n",
    "                if df[Y_test][i] == 'T' and df[feature][i] == f_value:    # if target is true\n",
    "                    feature_value_true+=1\n",
    "                elif df[Y_test][i] == 'F' and df[feature][i] == f_value:    # if target is false\n",
    "                    feature_value_false+=1\n",
    "                                \n",
    "            feature_prob_given_true.append({f_value: feature_value_true/class_value['T']})\n",
    "            feature_prob_given_false.append({f_value: feature_value_false/class_value['F']})\n",
    "    \n",
    "    \n",
    "    porsterior_T = 1\n",
    "    porsterior_F = 1\n",
    "    for i in range(len(X_test)):\n",
    "        x = X_test[i]\n",
    "        \n",
    "        mle = 1\n",
    "        for f_val in feature_prob_given_true:   # f_val = {'YELLOW': 0.5}\n",
    "            for key, value in f_val.items():    # key = 'YELLOW', value = 0.5\n",
    "                if x == key:                    # if x = 'YELLOW'\n",
    "                    mle *= value                # mle = 0.5\n",
    "                     \n",
    "        porsterior_T *= mle                     # P(YELLOW|T) = 0.5, P(LARGE|T) = 0.5, P(STRETCH|T) = 0.5, P(ADULT|T) = 0.5\n",
    "        \n",
    "        mle = 1\n",
    "        for f_val in feature_prob_given_false:  # f_val = {'YELLOW': 0.5}\n",
    "            for key, value in f_val.items():    # key = 'YELLOW', value = 0.5\n",
    "                if x == key:                    # if x = 'YELLOW'\n",
    "                    mle *= value                # mle = 0.5\n",
    "                    \n",
    "                \n",
    "        porsterior_F *= mle                     # P(YELLOW|F) = 0.5, P(LARGE|F) = 0.5, P(STRETCH|F) = 0.5, P(ADULT|F) = 0.5\n",
    "        \n",
    "    porsterior_T *= prior_probability(data)[0]  # P(T|YELLOW, LARGE, STRETCH, ADULT) = P(YELLOW|T) * P(LARGE|T) * P(STRETCH|T) * P(ADULT|T) * P(T)\n",
    "    porsterior_F *= prior_probability(data)[1]  # P(F|YELLOW, LARGE, STRETCH, ADULT) = P(YELLOW|F) * P(LARGE|F) * P(STRETCH|F) * P(ADULT|F) * P(F)\n",
    "    \n",
    "    return (porsterior_T > porsterior_F)        # return True if P(T|YELLOW, LARGE, STRETCH, ADULT) > P(F|YELLOW, LARGE, STRETCH, ADULT)\n",
    "\n",
    "\n",
    "p = prior_probability(data)\n",
    "m = naive_bayes_classifer(df=data, X_test=['YELLOW', 'LARGE', 'STRETCH', 'CHILD'], Y_test='Inflated')\n",
    "print(m)\n"
   ]
  }
 ],
 "metadata": {
  "kernelspec": {
   "display_name": "Python 3",
   "language": "python",
   "name": "python3"
  },
  "language_info": {
   "codemirror_mode": {
    "name": "ipython",
    "version": 3
   },
   "file_extension": ".py",
   "mimetype": "text/x-python",
   "name": "python",
   "nbconvert_exporter": "python",
   "pygments_lexer": "ipython3",
   "version": "3.9.5"
  },
  "orig_nbformat": 4,
  "vscode": {
   "interpreter": {
    "hash": "e7370f93d1d0cde622a1f8e1c04877d8463912d04d973331ad4851f04de6915a"
   }
  }
 },
 "nbformat": 4,
 "nbformat_minor": 2
}
