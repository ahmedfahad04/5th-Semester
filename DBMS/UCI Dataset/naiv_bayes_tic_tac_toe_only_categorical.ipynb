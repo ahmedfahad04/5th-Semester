{
 "cells": [
  {
   "cell_type": "code",
   "execution_count": 1,
   "metadata": {},
   "outputs": [],
   "source": [
    "import numpy as np \n",
    "import pandas as pd\n"
   ]
  },
  {
   "cell_type": "code",
   "execution_count": 2,
   "metadata": {},
   "outputs": [
    {
     "name": "stdout",
     "output_type": "stream",
     "text": [
      "Class\n"
     ]
    }
   ],
   "source": [
    "data = pd.read_csv('tic-tac-toe.csv')\n",
    "target = data.columns[-1]\n",
    "print(target)\n",
    "\n",
    "# naive bayes classifier for multiple instances of features\n",
    "def prior_probability(df, target):\n",
    "      \n",
    "    rows = len(df)\n",
    "    values = df[target].value_counts()\n",
    "    prior = []\n",
    "\n",
    "    for i in values:\n",
    "        prob = i/rows\n",
    "        prior.append(prob)\n",
    "        \n",
    "    return prior     \n",
    "\n",
    "def training(df, className):\n",
    "    feature_prob_given_true = []\n",
    "    feature_prob_given_false = []\n",
    "\n",
    "    features = df.columns[:-1]\n",
    "    class_count = df[className].value_counts()\n",
    "    class_values = df[className].unique()\n",
    "\n",
    "    for feature in features:\n",
    "        distinct_values = df[feature].unique()\n",
    "        f_ls = []\n",
    "        t_ls = []\n",
    "        for value in distinct_values:\n",
    "            true_count = 0\n",
    "            false_count = 0\n",
    "\n",
    "            for i, row in df.iterrows():\n",
    "                if row[className] == class_values[0] and row[feature] == value:\n",
    "                    true_count += 1\n",
    "                elif row[className] == class_values[1] and row[feature] == value:\n",
    "                    false_count += 1\n",
    "            \n",
    "            prob_true = true_count / class_count[class_values[0]]\n",
    "            prob_false = false_count / class_count[class_values[1]]\n",
    "\n",
    "            \n",
    "            t_ls.append({value: prob_true})\n",
    "            f_ls.append({value: prob_false})\n",
    "            \n",
    "        feature_prob_given_true.append(t_ls)\n",
    "        feature_prob_given_false.append(f_ls)\n",
    "        \n",
    "    return feature_prob_given_true, feature_prob_given_false\n",
    "\n",
    "def naive_bayes_classifer(df, X_test, Y_test): \n",
    "    \n",
    "   \n",
    "    class_values = df[Y_test].unique()\n",
    "    mle_given_True, mle_given_false = training(df, Y_test) \n",
    "    # Training DONE! \n",
    "    \n",
    "    # Testing Starts...\n",
    "\n",
    "    descision = []\n",
    "    \n",
    "    for each_test_case in X_test:\n",
    "        posterior_T = 1\n",
    "        posterior_F = 1\n",
    "       \n",
    "        for index, feature in enumerate(each_test_case, 0):\n",
    "            \n",
    "            feature_values = mle_given_True[index]\n",
    "            posterior_T *= [i[feature] for i in feature_values if feature in i][0]\n",
    "            \n",
    "            feature_values = mle_given_false[index]\n",
    "            posterior_F *= [i[feature] for i in feature_values if feature in i][0]\n",
    "\n",
    "        posterior_T *= prior_probability(data, Y_test)[0]\n",
    "        posterior_F *= prior_probability(data, Y_test)[1]\n",
    "    \n",
    "        descision.append(class_values[0] if posterior_T > posterior_F else class_values[1])\n",
    "        \n",
    "    return descision"
   ]
  },
  {
   "cell_type": "code",
   "execution_count": 3,
   "metadata": {},
   "outputs": [
    {
     "name": "stdout",
     "output_type": "stream",
     "text": [
      "[0 0 0 1 1 1 0 0 1 0 0 0 1 1 1 1 1 0 1 1 1 1 1 1 1 1 1 1 0 1 1 1 1 1 1 1 1\n",
      " 1 1 1 1 1 1 1 0 1 1 1 1 0 1 0 0 1 1 0 1 0 1 1 1 1 1 0 0 1 1 0 1 0 0 1 0 0\n",
      " 0 1 1 0 1 1 1 0 0 1 1 1 1 1 1 1 0 0 1 0 1 1 1 0 0 1 0 0 1 1 0 1 1 0 0 1 1\n",
      " 1 1 1 0 0 1 1 1 0 1 0 1 1 1 1 0 0 1 1 1 1 1 1 0 0 1 0 1 0 0 1 1 1 1 1 0 1\n",
      " 0 0 1 1 1 0 0 0 1 1 0 1 0 1 1 0 1 1 1 1 1 0 1 0 1 0 1 0 1 1 0 1 1 0 0 0 1\n",
      " 0 1 0 0 0 0 1]\n",
      "[0, 1, 1, 1, 1, 1, 1, 0, 1, 0, 1, 0, 0, 1, 0, 0, 1, 1, 1, 0, 1, 1, 0, 1, 1, 1, 1, 1, 0, 1, 1, 1, 1, 1, 0, 1, 1, 1, 0, 1, 0, 1, 0, 1, 0, 1, 1, 1, 1, 1, 1, 0, 1, 1, 0, 1, 0, 0, 1, 0, 1, 1, 1, 0, 0, 1, 1, 1, 1, 0, 0, 1, 1, 0, 1, 1, 0, 0, 1, 0, 1, 0, 0, 0, 0, 0, 1, 0, 0, 1, 1, 0, 1, 1, 1, 1, 1, 0, 1, 0, 1, 0, 1, 0, 1, 1, 1, 0, 0, 0, 1, 1, 1, 1, 0, 0, 1, 1, 1, 0, 1, 0, 1, 1, 1, 1, 0, 1, 1, 1, 1, 0, 1, 1, 0, 0, 1, 1, 1, 1, 0, 0, 1, 1, 0, 1, 1, 1, 1, 0, 0, 1, 1, 1, 0, 1, 1, 1, 0, 1, 0, 0, 1, 1, 1, 0, 1, 1, 1, 0, 1, 1, 1, 0, 1, 1, 1, 1, 1, 1, 1, 1, 0, 1, 1, 1, 1, 1, 0, 0, 1, 1]\n"
     ]
    }
   ],
   "source": [
    "# for tic tac toe Dataset\n",
    "\n",
    "data.replace('x',0,inplace=True)\n",
    "data.replace('o',1,inplace=True)\n",
    "data.replace('b',2,inplace=True)\n",
    "data.replace('negative',0,inplace=True)\n",
    "data.replace('positive',1,inplace=True)\n",
    "\n",
    "# for ballons Dataset\n",
    "\n",
    "# data.replace('SMALL', 0, inplace=True)\n",
    "# data.replace('LARGE', 1, inplace=True)\n",
    "# data.replace('PURPLE', 0, inplace=True)\n",
    "# data.replace('YELLOW', 1, inplace=True)\n",
    "# data.replace('DIP', 0, inplace=True)\n",
    "# data.replace('STRETCH', 1, inplace=True)\n",
    "# data.replace('CHILD', 0, inplace=True)\n",
    "# data.replace('ADULT', 1, inplace=True)\n",
    "\n",
    "from sklearn.model_selection import train_test_split\n",
    "train, test = train_test_split(data, test_size=.2)\n",
    "\n",
    "X_test = test.iloc[:,:-1].values\n",
    "Y_test = test.iloc[:,-1].values\n",
    "Y_pred = naive_bayes_classifer(data, X_test=X_test, Y_test=target)\n",
    "print(\"Predicted: \",Y_pred, \"\\nActual: \", Y_test)"
   ]
  },
  {
   "cell_type": "code",
   "execution_count": 4,
   "metadata": {},
   "outputs": [
    {
     "name": "stdout",
     "output_type": "stream",
     "text": [
      "[[38 32]\n",
      " [28 94]]\n",
      "TP:  94  TN:  38  FP:  32  FN:  28\n",
      "Accuracy Score:  0.6875\n"
     ]
    }
   ],
   "source": [
    "TP = 0  # Prediction (+) , Actual(+) \n",
    "FP = 0  # Prediction (+) , Actual(-) \n",
    "TN = 0  # Prediction (-) , Actual(-) \n",
    "FN = 0  # Prediction (-) , Actual(+)\n",
    "\n",
    "for i in range(len(Y_pred)):\n",
    "    if Y_pred[i] == 1 and Y_test[i] == 1:\n",
    "        TP+=1\n",
    "    elif Y_pred[i] == 1 and Y_test[i] == 0:\n",
    "        FP+=1\n",
    "    elif Y_pred[i] == 0 and Y_test[i] == 0:\n",
    "        TN+=1\n",
    "    elif Y_pred[i] == 0 and Y_test[i] == 1:\n",
    "        FN+=1\n",
    "        \n",
    "accuracy = (TP+TN)/(TP+TN+FP+FN)\n",
    "CF = np.zeros(shape=(2,2),dtype=int)\n",
    "CF[0,0] = TN\n",
    "CF[0,1] = FP\n",
    "CF[1,0] = FN\n",
    "CF[1,1] = TP\n",
    "print(CF)\n",
    "print(\"TP: \", TP, \" TN: \", TN, \" FP: \", FP, \" FN: \", FN)\n",
    "print(\"Accuracy Score: \", accuracy*100, \"%\")"
   ]
  },
  {
   "cell_type": "code",
   "execution_count": 5,
   "metadata": {},
   "outputs": [
    {
     "name": "stdout",
     "output_type": "stream",
     "text": [
      "Confusion Matrix: \n",
      " [[38 32]\n",
      " [28 94]]\n",
      "Accuracy:  0.6875\n"
     ]
    }
   ],
   "source": [
    "from sklearn.metrics import confusion_matrix, f1_score , accuracy_score\n",
    "print(\"Confusion Matrix: \\n\", confusion_matrix(Y_test, Y_pred))\n",
    "print(\"Accuracy: \",accuracy_score(Y_test, Y_pred))"
   ]
  },
  {
   "cell_type": "code",
   "execution_count": 6,
   "metadata": {},
   "outputs": [
    {
     "name": "stdout",
     "output_type": "stream",
     "text": [
      "Confusion Matrix: \n",
      " [[ 21  49]\n",
      " [  5 117]]\n",
      "Accuracy:  0.71875\n"
     ]
    }
   ],
   "source": [
    "from sklearn.naive_bayes import GaussianNB\n",
    "model = GaussianNB()\n",
    "model.fit(train.iloc[:,:-1], train.iloc[:,-1])\n",
    "Y_pred2 = model.predict(test.iloc[:,:-1])\n",
    "# print(Y_pred)\n",
    "\n",
    "print(\"Confusion Matrix: \\n\", confusion_matrix(Y_test, Y_pred2))\n",
    "print(\"Accuracy: \",accuracy_score(Y_test, Y_pred2)*100, \"%\")"
   ]
  }
 ],
 "metadata": {
  "kernelspec": {
   "display_name": "Python 3",
   "language": "python",
   "name": "python3"
  },
  "language_info": {
   "codemirror_mode": {
    "name": "ipython",
    "version": 3
   },
   "file_extension": ".py",
   "mimetype": "text/x-python",
   "name": "python",
   "nbconvert_exporter": "python",
   "pygments_lexer": "ipython3",
   "version": "3.9.5 (default, Nov 18 2021, 16:00:48) \n[GCC 10.3.0]"
  },
  "orig_nbformat": 4,
  "vscode": {
   "interpreter": {
    "hash": "e7370f93d1d0cde622a1f8e1c04877d8463912d04d973331ad4851f04de6915a"
   }
  }
 },
 "nbformat": 4,
 "nbformat_minor": 2
}
