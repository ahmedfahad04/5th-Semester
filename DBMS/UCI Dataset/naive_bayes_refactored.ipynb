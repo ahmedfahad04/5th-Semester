{
 "cells": [
  {
   "cell_type": "code",
   "execution_count": 41,
   "metadata": {},
   "outputs": [],
   "source": [
    "import numpy as np \n",
    "import pandas as pd\n"
   ]
  },
  {
   "cell_type": "code",
   "execution_count": 42,
   "metadata": {},
   "outputs": [
    {
     "name": "stdout",
     "output_type": "stream",
     "text": [
      "Inflated\n"
     ]
    }
   ],
   "source": [
    "data = pd.read_csv('ballons.csv')\n",
    "target = data.columns[-1]\n",
    "print(target)\n",
    "\n",
    "def prior_probability(df, target):\n",
    "    class_count = df[target].value_counts()\n",
    "    prior = class_count / len(df)\n",
    "    return prior\n",
    "\n",
    "def training(df, className):\n",
    "    feature_prob_given_class = []\n",
    "    features = df.columns[:-1]\n",
    "    class_counts = df[className].value_counts()\n",
    "\n",
    "    for feature in features:\n",
    "        class_feature_counts = df.groupby([className, feature]).size().unstack()\n",
    "        prob_given_class = class_feature_counts.div(class_counts, axis=0)\n",
    "        feature_prob_given_class.append(prob_given_class)\n",
    "        \n",
    "    return feature_prob_given_class\n",
    "\n",
    "def naive_bayes_classifer(df, X_test, Y_test):\n",
    "    class_values = df[Y_test].unique()\n",
    "    feature_prob_given_class = training(df, Y_test)\n",
    "    prior = prior_probability(df, Y_test)\n",
    "\n",
    "    predictions = []\n",
    "    X_test = pd.DataFrame(X_test)\n",
    "    for i, test_case in X_test.iterrows():\n",
    "        posterior_class = prior.copy()\n",
    "        for j, feature in enumerate(test_case):\n",
    "            for k, c in enumerate(class_values):\n",
    "                try:\n",
    "                    posterior_class[k] *= feature_prob_given_class[j].loc[c, feature]\n",
    "                except KeyError:\n",
    "                    posterior_class[k] = 0\n",
    "        predictions.append(class_values[posterior_class.idxmax()])\n",
    "    return predictions\n"
   ]
  },
  {
   "cell_type": "code",
   "execution_count": 43,
   "metadata": {},
   "outputs": [
    {
     "name": "stdout",
     "output_type": "stream",
     "text": [
      "Predicted:  [0, 1, 0, 1, 0, 0, 0, 0] \n",
      "Actual:  [0 1 0 1 0 0 0 0]\n"
     ]
    }
   ],
   "source": [
    "# for ballons Dataset\n",
    "data.replace('SMALL', 0, inplace=True)\n",
    "data.replace('LARGE', 1, inplace=True)\n",
    "data.replace('PURPLE', 0, inplace=True)\n",
    "data.replace('YELLOW', 1, inplace=True)\n",
    "data.replace('DIP', 0, inplace=True)\n",
    "data.replace('STRETCH', 1, inplace=True)\n",
    "data.replace('CHILD', 0, inplace=True)\n",
    "data.replace('ADULT', 1, inplace=True)\n",
    "data.replace('T', 1, inplace=True)\n",
    "data.replace('F', 0, inplace=True)\n",
    "\n",
    "from sklearn.model_selection import train_test_split\n",
    "train, test = train_test_split(data, test_size=.4)\n",
    "\n",
    "X_test = test.iloc[:,:-1].values\n",
    "Y_test = test.iloc[:,-1].values \n",
    "Y_pred = naive_bayes_classifer(data, X_test=X_test, Y_test=target)\n",
    "print(\"Predicted: \",Y_pred, \"\\nActual: \", Y_test)"
   ]
  },
  {
   "cell_type": "code",
   "execution_count": 44,
   "metadata": {},
   "outputs": [
    {
     "name": "stdout",
     "output_type": "stream",
     "text": [
      "Confusion Matrix: \n",
      " [[6 0]\n",
      " [0 2]]\n",
      "Accuracy:  100.0 %\n"
     ]
    }
   ],
   "source": [
    "from sklearn.metrics import confusion_matrix, f1_score , accuracy_score\n",
    "print(\"Confusion Matrix: \\n\", confusion_matrix(Y_test, Y_pred))\n",
    "print(\"Accuracy: \",accuracy_score(Y_test, Y_pred)*100, \"%\")"
   ]
  },
  {
   "cell_type": "code",
   "execution_count": 45,
   "metadata": {},
   "outputs": [
    {
     "name": "stdout",
     "output_type": "stream",
     "text": [
      "Confusion Matrix: \n",
      " [[6 0]\n",
      " [0 2]]\n",
      "Accuracy:  100.0 %\n"
     ]
    }
   ],
   "source": [
    "from sklearn.naive_bayes import GaussianNB\n",
    "\n",
    "model = GaussianNB()\n",
    "model.fit(train.iloc[:,:-1], train.iloc[:,-1])\n",
    "Y_pred2 = model.predict(test.iloc[:,:-1])\n",
    "\n",
    "print(\"Confusion Matrix: \\n\", confusion_matrix(Y_test, Y_pred2))\n",
    "print(\"Accuracy: \",accuracy_score(Y_test, Y_pred2)*100, \"%\")"
   ]
  }
 ],
 "metadata": {
  "kernelspec": {
   "display_name": "Python 3",
   "language": "python",
   "name": "python3"
  },
  "language_info": {
   "codemirror_mode": {
    "name": "ipython",
    "version": 3
   },
   "file_extension": ".py",
   "mimetype": "text/x-python",
   "name": "python",
   "nbconvert_exporter": "python",
   "pygments_lexer": "ipython3",
   "version": "3.9.5 (default, Nov 18 2021, 16:00:48) \n[GCC 10.3.0]"
  },
  "orig_nbformat": 4,
  "vscode": {
   "interpreter": {
    "hash": "e7370f93d1d0cde622a1f8e1c04877d8463912d04d973331ad4851f04de6915a"
   }
  }
 },
 "nbformat": 4,
 "nbformat_minor": 2
}
