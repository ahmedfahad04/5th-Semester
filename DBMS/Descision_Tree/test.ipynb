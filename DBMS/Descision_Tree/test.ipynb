{
 "cells": [
  {
   "cell_type": "code",
   "execution_count": 7,
   "metadata": {},
   "outputs": [],
   "source": [
    "import numpy as np \n",
    "import pandas as pd\n",
    "from collections import Counter"
   ]
  },
  {
   "cell_type": "code",
   "execution_count": 28,
   "metadata": {},
   "outputs": [
    {
     "name": "stdout",
     "output_type": "stream",
     "text": [
      "('Yes', 8)\n"
     ]
    }
   ],
   "source": [
    "data = pd.read_csv('weather.csv')\n",
    "\n",
    "\n",
    "# from sklearn.model_selection import train_test_split\n",
    "# train, test = train_test_split(data, test_size=.2)\n",
    "\n",
    "# feature = data.iloc[:,:-1].values \n",
    "# target = data.iloc[:,-1].values.reshape(1,-1)\n",
    "\n",
    "# x_train, x_test, y_train, y_test = train_test_split(feature, target, test_size=.2)\n",
    "# print(np.concatenate((feature, target), axis=2))\n",
    "# print(x_train)\n",
    "# print(y_train)\n",
    "# print(np.concatenate((x_train, y_train), axis=1))\n",
    "# print(data)\n",
    "counter = Counter(data['Play'])\n",
    "print(counter.most_common(1)[0])\n",
    "\n",
    "# feat_ids = np.random.choice(data.columns[:-1], 2, replace=False)\n",
    "# print(feat_ids)"
   ]
  }
 ],
 "metadata": {
  "kernelspec": {
   "display_name": "Python 3",
   "language": "python",
   "name": "python3"
  },
  "language_info": {
   "codemirror_mode": {
    "name": "ipython",
    "version": 3
   },
   "file_extension": ".py",
   "mimetype": "text/x-python",
   "name": "python",
   "nbconvert_exporter": "python",
   "pygments_lexer": "ipython3",
   "version": "3.9.5 (default, Nov 18 2021, 16:00:48) \n[GCC 10.3.0]"
  },
  "orig_nbformat": 4,
  "vscode": {
   "interpreter": {
    "hash": "e7370f93d1d0cde622a1f8e1c04877d8463912d04d973331ad4851f04de6915a"
   }
  }
 },
 "nbformat": 4,
 "nbformat_minor": 2
}
